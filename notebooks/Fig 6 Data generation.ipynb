{
 "cells": [
  {
   "cell_type": "code",
   "execution_count": 1,
   "id": "73b0b616",
   "metadata": {},
   "outputs": [],
   "source": [
    "import numpy as np\n",
    "import pandas as pd\n",
    "import matplotlib.pyplot as plt\n",
    "import os\n",
    "import music21\n",
    "import chant21\n",
    "import scipy\n",
    "from scipy.fftpack import fft, dct, idct\n",
    "from sklearn.decomposition import PCA"
   ]
  },
  {
   "cell_type": "markdown",
   "id": "a81a5518",
   "metadata": {
    "tags": []
   },
   "source": [
    "## Conversion code"
   ]
  },
  {
   "cell_type": "code",
   "execution_count": 2,
   "id": "9b02fefc",
   "metadata": {
    "tags": []
   },
   "outputs": [],
   "source": [
    "_VOLPIANO_TO_MIDI = {\n",
    "    \"8\": 53, # F\n",
    "    \"9\": 55, # G\n",
    "    \"a\": 57,\n",
    "    \"y\": 58, # B flat\n",
    "    \"b\": 59,\n",
    "    \"c\": 60,\n",
    "    \"d\": 62,\n",
    "    \"w\": 63, # E flat\n",
    "    \"e\": 64,\n",
    "    \"f\": 65,\n",
    "    \"g\": 67,\n",
    "    \"h\": 69,\n",
    "    \"i\": 70, # B flat\n",
    "    \"j\": 71,\n",
    "    \"k\": 72, # C\n",
    "    \"l\": 74,\n",
    "    \"x\": 75, # E flat\n",
    "    \"m\": 76,\n",
    "    \"n\": 77,\n",
    "    \"o\": 79,\n",
    "    \"p\": 81,\n",
    "    \"z\": 82, # B flat\n",
    "    \"q\": 83, # B\n",
    "    \"r\": 84, # C\n",
    "    \"s\": 86,\n",
    "    \n",
    "    # Liquescents\n",
    "    \"(\": 53,\n",
    "    \")\": 55,\n",
    "    \"A\": 57,\n",
    "    \"B\": 59,\n",
    "    \"C\": 60,\n",
    "    \"D\": 62,\n",
    "    \"E\": 64,\n",
    "    \"F\": 65,\n",
    "    \"G\": 67,\n",
    "    \"H\": 69,\n",
    "    \"J\": 71,\n",
    "    \"K\": 72, # C\n",
    "    \"L\": 74,\n",
    "    \"M\": 76,\n",
    "    \"N\": 77,\n",
    "    \"O\": 79,\n",
    "    \"P\": 81,\n",
    "    \"Q\": 83,\n",
    "    \"R\": 84, # C\n",
    "    \"S\": 86, # D\n",
    "    \n",
    "    # Naturals\n",
    "    \"Y\": 59, # Natural at B\n",
    "    \"W\": 64, # Natural at E\n",
    "    \"I\": 71, # Natural at B\n",
    "    \"X\": 76, # Natural at E\n",
    "    \"Z\": 83,\n",
    "}\n",
    "\n",
    "def volpiano_to_midi(volpiano, fill_na=False, skip_accidentals=False):\n",
    "    \"\"\"\n",
    "    Translates volpiano pitches to a list of midi pitches\n",
    "\n",
    "    All non-note characters are ignored or filled with `None`, if `fill_na=True`\n",
    "    Unless `skip_accidentals=True`, accidentals are converted to midi pitches\n",
    "    as well. So an i (flat at the B) becomes 70, a B flat. Or a W (a natural at\n",
    "    the E) becomes 64 (E).\n",
    "    \"\"\"\n",
    "    accidentals = 'iwxyz' + 'IWXYZ'\n",
    "    midi = []\n",
    "    for char in volpiano:\n",
    "        if skip_accidentals and char in accidentals:\n",
    "            pass\n",
    "        elif char in _VOLPIANO_TO_MIDI:\n",
    "            midi.append(_VOLPIANO_TO_MIDI[char])\n",
    "        elif fill_na:\n",
    "            midi.append(None)\n",
    "    return midi"
   ]
  },
  {
   "cell_type": "code",
   "execution_count": 3,
   "id": "8378ca27",
   "metadata": {},
   "outputs": [],
   "source": [
    "def volpiano_to_contour(volpiano, num_samples=50):\n",
    "    pitches = volpiano_to_midi(volpiano + volpiano[-1])\n",
    "    xs = np.linspace(0, 1, len(pitches))\n",
    "    func = scipy.interpolate.interp1d(xs, pitches, kind='previous')\n",
    "    return func(np.linspace(0, 1, num_samples))"
   ]
  },
  {
   "cell_type": "code",
   "execution_count": 4,
   "id": "675a2dc0",
   "metadata": {},
   "outputs": [],
   "source": [
    "def convert_segments(volpiano, normalize=False, num_samples=50):\n",
    "    segments = volpiano.split()\n",
    "    contours = np.asarray([\n",
    "        volpiano_to_contour(s, num_samples=num_samples) \n",
    "        for s in segments])\n",
    "    if normalize:\n",
    "        contours = contours - contours.mean(axis=1)[:, np.newaxis]\n",
    "    return contours"
   ]
  },
  {
   "cell_type": "markdown",
   "id": "9ad9b734",
   "metadata": {
    "tags": []
   },
   "source": [
    "## Generate datasets"
   ]
  },
  {
   "cell_type": "code",
   "execution_count": 5,
   "id": "031d13b3",
   "metadata": {
    "tags": []
   },
   "outputs": [
    {
     "name": "stdout",
     "output_type": "stream",
     "text": [
      "Stored contours to responsory_full_train_syllables_pca\n",
      "Stored basis to responsory_full_train_syllables_pca_basis\n"
     ]
    },
    {
     "name": "stderr",
     "output_type": "stream",
     "text": [
      "/Users/bas/repos/papers/ISMIR2021/env/lib/python3.7/site-packages/pandas/core/generic.py:2621: PerformanceWarning: \n",
      "your performance may suffer as PyTables will pickle object types that it cannot\n",
      "map directly to c-types [inferred_type->mixed,key->values] [items->None]\n",
      "\n",
      "  encoding=encoding,\n"
     ]
    }
   ],
   "source": [
    "def generate_dataset(run, genre, subset, kind, segmentation, \n",
    "                     projection='cos',\n",
    "                     num_chants=-1, dim=20, output_fn=None):\n",
    "    # Load data\n",
    "    chants = pd.read_csv(\n",
    "        f'../datasets/cornelissen-etal-2020/{run}/{genre}/{subset}/{kind}-representation-pitch.csv', \n",
    "        index_col=0)\n",
    "    chants = chants[segmentation].iloc[:num_chants]\n",
    "    contours = chants.map(convert_segments)\n",
    "\n",
    "    if projection == 'cos':\n",
    "        proj = contours.map(lambda c: dct(c, norm='ortho')[:, 1:dim+1])\n",
    "        basis = dct(np.eye(contours[0].shape[1]), norm=\"ortho\")[:, 1:dim+1].T\n",
    "    elif projection == 'pca':\n",
    "        # Center contours for PCA\n",
    "        contours = contours.map(lambda c: c-c.mean(axis=1)[:, np.newaxis])\n",
    "        all_contours = np.concatenate(contours.values)\n",
    "        pca = PCA(n_components=dim)\n",
    "        pca.fit(all_contours)\n",
    "        proj = contours.map(lambda c: pca.transform(c))\n",
    "        basis = pca.components_\n",
    "        \n",
    "    # Store in HDF data store\n",
    "    # Store as half precision floats\n",
    "    proj = proj.map(lambda c: c.astype(np.float16))\n",
    "    key = f'{genre}_{subset}_{kind}_{segmentation}_{projection}'\n",
    "    output_fn = f'../data/mode-classification/{run}.h5' if output_fn is None else output_fn\n",
    "    proj.to_hdf(output_fn, key=key, encoding='UTF-8', mode='a')\n",
    "    print(f'Stored contours to {key}')\n",
    "    \n",
    "    basis_df = pd.DataFrame(basis).astype(np.float16)\n",
    "    basis_df.to_hdf(output_fn, key=f'{key}_basis', encoding='UTF-8', mode='a')\n",
    "    print(f'Stored basis to {key}_basis')\n",
    "    \n",
    "    return proj, basis, contours\n",
    "\n",
    "df, basis, contours = generate_dataset('run-0', 'responsory', 'full', 'train', \n",
    "                                       'syllables', projection='pca', num_chants=50, \n",
    "                                       output_fn='../data/mode-classification/test.h5')"
   ]
  },
  {
   "cell_type": "code",
   "execution_count": 6,
   "id": "6e546ff5",
   "metadata": {},
   "outputs": [
    {
     "data": {
      "image/png": "[encoded data removed]",
      "text/plain": [
       "<Figure size 432x288 with 1 Axes>"
      ]
     },
     "metadata": {
      "needs_background": "light"
     },
     "output_type": "display_data"
    }
   ],
   "source": [
    "# To check if this work, we plot the construction and original contour\n",
    "for i in range(4):\n",
    "    chant = contours[0] - contours[0].mean(axis=1)[:, np.newaxis]\n",
    "    plt.plot(chant[i, :].T, c=f'C{i}')\n",
    "    plt.plot(df[0].dot(basis)[i, :].T, ':', c=f'C{i}')"
   ]
  },
  {
   "cell_type": "code",
   "execution_count": null,
   "id": "42d80cbe",
   "metadata": {
    "tags": []
   },
   "outputs": [],
   "source": [
    "# Generate all datasets\n",
    "refresh = False\n",
    "for run in ['run-0', 'run-1', 'run-2']:\n",
    "    store = pd.HDFStore(f'../data/mode-classification/{run}.h5')\n",
    "    for genre in ['responsory', 'antiphon']:\n",
    "        for subset in ['subset', 'full']:\n",
    "            for kind in ['train', 'test']:\n",
    "                for projection in ['cos', 'pca']:\n",
    "                    for segmentation in ['words', 'syllables', 'neumes']:\n",
    "                        key = f'/{genre}_{subset}_{kind}_{segmentation}_{projection}'\n",
    "                        if key in store.keys() and refresh is False:\n",
    "                            print('Already exists:', key)\n",
    "                        else:\n",
    "                            generate_dataset(\n",
    "                                run=run,\n",
    "                                genre=genre,\n",
    "                                subset=subset,\n",
    "                                kind=kind, \n",
    "                                segmentation=segmentation,\n",
    "                                projection=projection,\n",
    "                                num_chants=-1)"
   ]
  },
  {
   "cell_type": "code",
   "execution_count": null,
   "id": "b82d665d",
   "metadata": {},
   "outputs": [],
   "source": []
  }
 ],
 "metadata": {
  "kernelspec": {
   "display_name": "Python 3",
   "language": "python",
   "name": "python3"
  },
  "language_info": {
   "codemirror_mode": {
    "name": "ipython",
    "version": 3
   },
   "file_extension": ".py",
   "mimetype": "text/x-python",
   "name": "python",
   "nbconvert_exporter": "python",
   "pygments_lexer": "ipython3",
   "version": "3.7.6"
  }
 },
 "nbformat": 4,
 "nbformat_minor": 5
}
